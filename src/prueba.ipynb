{
 "cells": [
  {
   "cell_type": "code",
   "execution_count": 1,
   "metadata": {},
   "outputs": [
    {
     "data": {
      "text/plain": [
       "True"
      ]
     },
     "execution_count": 1,
     "metadata": {},
     "output_type": "execute_result"
    }
   ],
   "source": [
    "import requests\n",
    "import tweepy\n",
    "import os\n",
    "import re\n",
    "import seaborn as sns\n",
    "import pandas as pd\n",
    "import matplotlib.pyplot as plt\n",
    "\n",
    "from dotenv import load_dotenv   #for python-dotenv method\n",
    "\n"
   ]
  },
  {
   "cell_type": "code",
   "execution_count": 7,
   "metadata": {},
   "outputs": [],
   "source": [
    "# load the .env file variables\n",
    "load_dotenv()  \n",
    "\n",
    "consumer_key = os.environ.get('CONSUMER_KEY')\n",
    "consumer_secret = os.environ.get('CONSUMER_SECRET')\n",
    "access_token = os.environ.get('ACCESS_TOKEN')\n",
    "access_token_secret = os.environ.get('ACCESS_TOKEN_SECRET')\n",
    "bearer_token = os.environ.get('BEARER_TOKEN')\n",
    "\n",
    "# Use tweepy.Client()\n",
    "client = tweepy.Client( bearer_token=bearer_token, \n",
    "                        consumer_key=consumer_key, \n",
    "                        consumer_secret=consumer_secret, \n",
    "                        access_token=access_token, \n",
    "                        access_token_secret=access_token_secret, \n",
    "                        return_type = requests.Response,\n",
    "                        wait_on_rate_limit=True)"
   ]
  },
  {
   "cell_type": "code",
   "execution_count": 8,
   "metadata": {},
   "outputs": [],
   "source": [
    "query = '#100daysofcode (pandas OR python) -is:retweet'\n",
    "\n",
    "# get max. 100 tweets\n",
    "tweets = client.search_recent_tweets(query=query, \n",
    "                                    tweet_fields=['author_id','created_at','lang'],\n",
    "                                     max_results=10)"
   ]
  },
  {
   "cell_type": "code",
   "execution_count": 9,
   "metadata": {},
   "outputs": [
    {
     "data": {
      "text/html": [
       "<div>\n",
       "<style scoped>\n",
       "    .dataframe tbody tr th:only-of-type {\n",
       "        vertical-align: middle;\n",
       "    }\n",
       "\n",
       "    .dataframe tbody tr th {\n",
       "        vertical-align: top;\n",
       "    }\n",
       "\n",
       "    .dataframe thead th {\n",
       "        text-align: right;\n",
       "    }\n",
       "</style>\n",
       "<table border=\"1\" class=\"dataframe\">\n",
       "  <thead>\n",
       "    <tr style=\"text-align: right;\">\n",
       "      <th></th>\n",
       "      <th>created_at</th>\n",
       "      <th>id</th>\n",
       "      <th>lang</th>\n",
       "      <th>text</th>\n",
       "      <th>author_id</th>\n",
       "    </tr>\n",
       "  </thead>\n",
       "  <tbody>\n",
       "    <tr>\n",
       "      <th>0</th>\n",
       "      <td>2022-06-18T00:23:16.000Z</td>\n",
       "      <td>1537954058627010561</td>\n",
       "      <td>en</td>\n",
       "      <td>We have a team of professionals\\n#Assignmenthe...</td>\n",
       "      <td>1248663064817422336</td>\n",
       "    </tr>\n",
       "    <tr>\n",
       "      <th>1</th>\n",
       "      <td>2022-06-18T00:21:46.000Z</td>\n",
       "      <td>1537953681672269827</td>\n",
       "      <td>en</td>\n",
       "      <td>Need Help?\\nKindly Dm for,\\n#Biochem\\n#Algebra...</td>\n",
       "      <td>1428676583993352200</td>\n",
       "    </tr>\n",
       "    <tr>\n",
       "      <th>2</th>\n",
       "      <td>2022-06-18T00:21:39.000Z</td>\n",
       "      <td>1537953653146779649</td>\n",
       "      <td>en</td>\n",
       "      <td>Pay us to do or write your \\n#Assignments \\n#c...</td>\n",
       "      <td>1288142066082557954</td>\n",
       "    </tr>\n",
       "    <tr>\n",
       "      <th>3</th>\n",
       "      <td>2022-06-18T00:19:33.000Z</td>\n",
       "      <td>1537953125969014785</td>\n",
       "      <td>en</td>\n",
       "      <td>Pay us to do or write your \\n#Assignments \\n#c...</td>\n",
       "      <td>1288142066082557954</td>\n",
       "    </tr>\n",
       "    <tr>\n",
       "      <th>4</th>\n",
       "      <td>2022-06-18T00:18:59.000Z</td>\n",
       "      <td>1537952980552413184</td>\n",
       "      <td>en</td>\n",
       "      <td>We offer Legit &amp;amp; Quality academic solution...</td>\n",
       "      <td>1248663064817422336</td>\n",
       "    </tr>\n",
       "    <tr>\n",
       "      <th>5</th>\n",
       "      <td>2022-06-18T00:16:37.000Z</td>\n",
       "      <td>1537952388266348544</td>\n",
       "      <td>en</td>\n",
       "      <td>#Excellency is our top focus \\n #Essayshelp\\n#...</td>\n",
       "      <td>1248663064817422336</td>\n",
       "    </tr>\n",
       "    <tr>\n",
       "      <th>6</th>\n",
       "      <td>2022-06-18T00:15:30.000Z</td>\n",
       "      <td>1537952107923329026</td>\n",
       "      <td>en</td>\n",
       "      <td>#online class\\n#assignments\\n#economics \\n#ess...</td>\n",
       "      <td>1248663064817422336</td>\n",
       "    </tr>\n",
       "    <tr>\n",
       "      <th>7</th>\n",
       "      <td>2022-06-18T00:15:30.000Z</td>\n",
       "      <td>1537952105972961280</td>\n",
       "      <td>en</td>\n",
       "      <td>Grade A+ assured in any timed paper\\n#Essay du...</td>\n",
       "      <td>1248663064817422336</td>\n",
       "    </tr>\n",
       "    <tr>\n",
       "      <th>8</th>\n",
       "      <td>2022-06-18T00:15:26.000Z</td>\n",
       "      <td>1537952088663072768</td>\n",
       "      <td>en</td>\n",
       "      <td>We are available to help you complete your ess...</td>\n",
       "      <td>1248663064817422336</td>\n",
       "    </tr>\n",
       "    <tr>\n",
       "      <th>9</th>\n",
       "      <td>2022-06-18T00:15:26.000Z</td>\n",
       "      <td>1537952087912304642</td>\n",
       "      <td>en</td>\n",
       "      <td>We are available 24/7\\n#python\\n#homeworkdue \\...</td>\n",
       "      <td>1248663064817422336</td>\n",
       "    </tr>\n",
       "  </tbody>\n",
       "</table>\n",
       "</div>"
      ],
      "text/plain": [
       "                 created_at                   id lang  \\\n",
       "0  2022-06-18T00:23:16.000Z  1537954058627010561   en   \n",
       "1  2022-06-18T00:21:46.000Z  1537953681672269827   en   \n",
       "2  2022-06-18T00:21:39.000Z  1537953653146779649   en   \n",
       "3  2022-06-18T00:19:33.000Z  1537953125969014785   en   \n",
       "4  2022-06-18T00:18:59.000Z  1537952980552413184   en   \n",
       "5  2022-06-18T00:16:37.000Z  1537952388266348544   en   \n",
       "6  2022-06-18T00:15:30.000Z  1537952107923329026   en   \n",
       "7  2022-06-18T00:15:30.000Z  1537952105972961280   en   \n",
       "8  2022-06-18T00:15:26.000Z  1537952088663072768   en   \n",
       "9  2022-06-18T00:15:26.000Z  1537952087912304642   en   \n",
       "\n",
       "                                                text            author_id  \n",
       "0  We have a team of professionals\\n#Assignmenthe...  1248663064817422336  \n",
       "1  Need Help?\\nKindly Dm for,\\n#Biochem\\n#Algebra...  1428676583993352200  \n",
       "2  Pay us to do or write your \\n#Assignments \\n#c...  1288142066082557954  \n",
       "3  Pay us to do or write your \\n#Assignments \\n#c...  1288142066082557954  \n",
       "4  We offer Legit &amp; Quality academic solution...  1248663064817422336  \n",
       "5  #Excellency is our top focus \\n #Essayshelp\\n#...  1248663064817422336  \n",
       "6  #online class\\n#assignments\\n#economics \\n#ess...  1248663064817422336  \n",
       "7  Grade A+ assured in any timed paper\\n#Essay du...  1248663064817422336  \n",
       "8  We are available to help you complete your ess...  1248663064817422336  \n",
       "9  We are available 24/7\\n#python\\n#homeworkdue \\...  1248663064817422336  "
      ]
     },
     "execution_count": 9,
     "metadata": {},
     "output_type": "execute_result"
    }
   ],
   "source": [
    "# Save data as dictionary\n",
    "tweets_dict = tweets.json() \n",
    "\n",
    "# Extract \"data\" value from dictionary\n",
    "tweets_data = tweets_dict['data'] \n",
    "\n",
    "# Transform to pandas Dataframe\n",
    "df = pd.json_normalize(tweets_data) \n",
    "\n",
    "df"
   ]
  },
  {
   "cell_type": "code",
   "execution_count": null,
   "metadata": {},
   "outputs": [],
   "source": []
  }
 ],
 "metadata": {
  "kernelspec": {
   "display_name": "Python 3.8.13 64-bit ('3.8.13')",
   "language": "python",
   "name": "python3"
  },
  "language_info": {
   "codemirror_mode": {
    "name": "ipython",
    "version": 3
   },
   "file_extension": ".py",
   "mimetype": "text/x-python",
   "name": "python",
   "nbconvert_exporter": "python",
   "pygments_lexer": "ipython3",
   "version": "3.8.13"
  },
  "orig_nbformat": 4,
  "vscode": {
   "interpreter": {
    "hash": "110cc1dee26208153f2972f08a2ad52b6a56238dc66d48e87fb757ef2996db56"
   }
  }
 },
 "nbformat": 4,
 "nbformat_minor": 2
}
